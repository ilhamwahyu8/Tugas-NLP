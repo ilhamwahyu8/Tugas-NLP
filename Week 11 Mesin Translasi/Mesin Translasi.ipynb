{
 "cells": [
  {
   "cell_type": "code",
   "execution_count": 1,
   "metadata": {},
   "outputs": [],
   "source": [
    "import nltk\n",
    "import pandas as pd\n",
    "from nltk.translate import IBMModel1\n",
    "from nltk.translate import Alignment, AlignedSent"
   ]
  },
  {
   "cell_type": "code",
   "execution_count": 2,
   "metadata": {},
   "outputs": [
    {
     "data": {
      "text/html": [
       "<div>\n",
       "<style scoped>\n",
       "    .dataframe tbody tr th:only-of-type {\n",
       "        vertical-align: middle;\n",
       "    }\n",
       "\n",
       "    .dataframe tbody tr th {\n",
       "        vertical-align: top;\n",
       "    }\n",
       "\n",
       "    .dataframe thead th {\n",
       "        text-align: right;\n",
       "    }\n",
       "</style>\n",
       "<table border=\"1\" class=\"dataframe\">\n",
       "  <thead>\n",
       "    <tr style=\"text-align: right;\">\n",
       "      <th></th>\n",
       "      <th>Bahasa Cirebon</th>\n",
       "      <th>Arti</th>\n",
       "    </tr>\n",
       "  </thead>\n",
       "  <tbody>\n",
       "    <tr>\n",
       "      <td>0</td>\n",
       "      <td>Isun dolanan geni</td>\n",
       "      <td>saya bermain api</td>\n",
       "    </tr>\n",
       "    <tr>\n",
       "      <td>1</td>\n",
       "      <td>Ira nggoleti wadon bae</td>\n",
       "      <td>kamu mencari perempuan terus</td>\n",
       "    </tr>\n",
       "    <tr>\n",
       "      <td>2</td>\n",
       "      <td>Watu ning kali abot pisan</td>\n",
       "      <td>batu di sungai berat sekali</td>\n",
       "    </tr>\n",
       "    <tr>\n",
       "      <td>3</td>\n",
       "      <td>Kebriben carae ngeliwet sega ?</td>\n",
       "      <td>bagaimana caranya memasak nasi ?</td>\n",
       "    </tr>\n",
       "    <tr>\n",
       "      <td>4</td>\n",
       "      <td>umah iku duwur pisan</td>\n",
       "      <td>rumah itu tinggi sekali</td>\n",
       "    </tr>\n",
       "  </tbody>\n",
       "</table>\n",
       "</div>"
      ],
      "text/plain": [
       "                   Bahasa Cirebon                              Arti\n",
       "0               Isun dolanan geni                  saya bermain api\n",
       "1          Ira nggoleti wadon bae      kamu mencari perempuan terus\n",
       "2       Watu ning kali abot pisan       batu di sungai berat sekali\n",
       "3  Kebriben carae ngeliwet sega ?  bagaimana caranya memasak nasi ?\n",
       "4            umah iku duwur pisan           rumah itu tinggi sekali"
      ]
     },
     "execution_count": 2,
     "metadata": {},
     "output_type": "execute_result"
    }
   ],
   "source": [
    "corpus = pd.read_excel('corpus.xlsx')\n",
    "corpus.head()"
   ]
  },
  {
   "cell_type": "code",
   "execution_count": 3,
   "metadata": {},
   "outputs": [],
   "source": [
    "bitext = []\n",
    "for i in range(len(corpus)):\n",
    "    cirebon = str(corpus.iloc[i,0]).lower().split()\n",
    "    indonesia = str(corpus.iloc[i,1]).lower().split()\n",
    "    align = []\n",
    "    #     Align didapat dari banyaknya kata\n",
    "    for i in range(len(cirebon)):\n",
    "        align.append((i,i))\n",
    "    bitext.append(AlignedSent(indonesia ,cirebon, Alignment(align)))"
   ]
  },
  {
   "cell_type": "code",
   "execution_count": 12,
   "metadata": {},
   "outputs": [],
   "source": [
    "com_ibm1 = IBMModel1(bitext, 5)"
   ]
  },
  {
   "cell_type": "code",
   "execution_count": 27,
   "metadata": {},
   "outputs": [
    {
     "name": "stdout",
     "output_type": "stream",
     "text": [
      "0.47\n"
     ]
    }
   ],
   "source": [
    "print(round(com_ibm1.translation_table[\"api\"][\"geni\"], 2) )"
   ]
  },
  {
   "cell_type": "code",
   "execution_count": 28,
   "metadata": {},
   "outputs": [
    {
     "name": "stdout",
     "output_type": "stream",
     "text": [
      "0.98\n"
     ]
    }
   ],
   "source": [
    "print(round(com_ibm1.translation_table[\"saya\"][\"isun\"], 2) )"
   ]
  },
  {
   "cell_type": "code",
   "execution_count": 29,
   "metadata": {},
   "outputs": [
    {
     "name": "stdout",
     "output_type": "stream",
     "text": [
      "0.74\n"
     ]
    }
   ],
   "source": [
    "print(round(com_ibm1.translation_table[\"tidur\"][\"turu\"], 2) )"
   ]
  },
  {
   "cell_type": "code",
   "execution_count": 30,
   "metadata": {},
   "outputs": [
    {
     "data": {
      "text/plain": [
       "(6, 6)"
      ]
     },
     "execution_count": 30,
     "metadata": {},
     "output_type": "execute_result"
    }
   ],
   "source": [
    "# counterCrb = 0\n",
    "# counterInd = 0\n",
    "# for i in range(len(corpus)):\n",
    "#     crb = str(corpus.iloc[i,0]).lower().split()\n",
    "#     ind = str(corpus.iloc[i,1]).lower().split()\n",
    "#     counterCrb += len([w for w in crb if w == \"isun\"])\n",
    "#     counterInd += len([w for w in ind if w == \"saya\"])\n",
    "# counterCrb, counterInd\n",
    "# Pencarian data suatu kata didalam corpus"
   ]
  },
  {
   "cell_type": "code",
   "execution_count": 10,
   "metadata": {},
   "outputs": [
    {
     "data": {
      "text/plain": [
       "[]"
      ]
     },
     "execution_count": 10,
     "metadata": {},
     "output_type": "execute_result"
    }
   ],
   "source": []
  }
 ],
 "metadata": {
  "kernelspec": {
   "display_name": "Python 3",
   "language": "python",
   "name": "python3"
  },
  "language_info": {
   "codemirror_mode": {
    "name": "ipython",
    "version": 3
   },
   "file_extension": ".py",
   "mimetype": "text/x-python",
   "name": "python",
   "nbconvert_exporter": "python",
   "pygments_lexer": "ipython3",
   "version": "3.7.4"
  }
 },
 "nbformat": 4,
 "nbformat_minor": 2
}
