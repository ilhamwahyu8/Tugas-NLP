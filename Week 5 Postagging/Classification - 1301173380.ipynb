{
 "cells": [
  {
   "cell_type": "code",
   "execution_count": 1,
   "metadata": {},
   "outputs": [
    {
     "name": "stderr",
     "output_type": "stream",
     "text": [
      "[nltk_data] Downloading package punkt to\n",
      "[nltk_data]     C:\\Users\\Ilham\\AppData\\Roaming\\nltk_data...\n",
      "[nltk_data]   Package punkt is already up-to-date!\n"
     ]
    },
    {
     "data": {
      "text/plain": [
       "True"
      ]
     },
     "execution_count": 1,
     "metadata": {},
     "output_type": "execute_result"
    }
   ],
   "source": [
    "import pandas as pd\n",
    "import nltk\n",
    "from nltk import word_tokenize\n",
    "import os\n",
    "nltk.download('punkt')"
   ]
  },
  {
   "cell_type": "code",
   "execution_count": 2,
   "metadata": {},
   "outputs": [],
   "source": [
    "path = 'Dataset'\n",
    "trainSet = pd.read_csv(path + \"/Train Set.tsv\",header = None, delimiter=\"\\t\")\n",
    "testSet = pd.read_csv(path + \"/Test Set.tsv\",header = None, delimiter=\"\\t\")"
   ]
  },
  {
   "cell_type": "code",
   "execution_count": 3,
   "metadata": {},
   "outputs": [],
   "source": [
    "kalimatTrain = []\n",
    "insertKalimat = ''\n",
    "for i in range(len(trainSet)):\n",
    "    insertKalimat += str(trainSet.loc[i,0])\n",
    "    insertKalimat += '/'\n",
    "    insertKalimat += str(trainSet.loc[i,1])\n",
    "    insertKalimat += '@'\n",
    "    if trainSet.loc[i,0] == \".\" and trainSet.loc[i,1] == \"Z\":\n",
    "        kalimatTrain.append(insertKalimat)\n",
    "        insertKalimat = ''\n",
    "kalimatTest = []\n",
    "insertKalimat = ''\n",
    "for i in range(len(testSet)):\n",
    "    insertKalimat += str(testSet.loc[i,0])\n",
    "    insertKalimat += '@'\n",
    "#     insertKalimat += str(testSet.loc[i,1])\n",
    "    if testSet.loc[i,0] == \".\" and testSet.loc[i,1] == \"Z\":\n",
    "        kalimatTest.append(insertKalimat)\n",
    "        insertKalimat = ''"
   ]
  },
  {
   "cell_type": "code",
   "execution_count": 4,
   "metadata": {},
   "outputs": [],
   "source": [
    "sentences = [] # list untuk menampung kalimat dan kata-kata di dalamnya\n",
    "tags = []    # list untuk menampung tag\n",
    "\n",
    "for i in range(0,len(kalimatTrain)):\n",
    "    tokens = kalimatTrain[i].split('@')\n",
    "    tokens.pop()\n",
    "    sent = []\n",
    "    tag = []\n",
    "    for j in range(0,len(tokens)):\n",
    "        pair = tokens[j].split('/')\n",
    "        sent.append(pair[0])\n",
    "        tag.append(pair[1])\n",
    "    sentences.append(sent)\n",
    "    tags.append(tag)"
   ]
  },
  {
   "cell_type": "code",
   "execution_count": 5,
   "metadata": {},
   "outputs": [],
   "source": [
    "def features(sentence, index):\n",
    "    \"\"\" sentence: [w1, w2, ...], index: the index of the word \"\"\"\n",
    "    #print(\"sentence index = \")\n",
    "    #print(sentence[index])\n",
    "    prefix_1 = ''\n",
    "    prefix_2 = ''\n",
    "    suffix_1 = ''\n",
    "    suffix_2 = ''\n",
    "    if (len(sentence[index])>2):\n",
    "      prefix_1 = sentence[index][0]\n",
    "      prefix_2 = sentence[index][:2]\n",
    "      suffix_1 = sentence[index][-1]\n",
    "      suffix_2 = sentence[index][-2:]\n",
    "    return {\n",
    "        'word': sentence[index],\n",
    "        'prefix-1': prefix_1,\n",
    "        'prefix-2': prefix_2,        \n",
    "        'suffix-1': suffix_1,\n",
    "        'suffix-2': suffix_2,        \n",
    "        'prev_word': '' if index == 0 else sentence[index - 1],\n",
    "        'next_word': '' if index == len(sentence) - 1 else sentence[index + 1],\n",
    "    }"
   ]
  },
  {
   "cell_type": "code",
   "execution_count": 6,
   "metadata": {},
   "outputs": [],
   "source": [
    "def transform_to_dataset(sentences, tags):\n",
    "    X, y = [], []\n",
    " \n",
    "    for sentence_idx in range(len(sentences)):\n",
    "        for index in range(len(sentences[sentence_idx])):\n",
    "            X.append(features(sentences[sentence_idx], index))\n",
    "            y.append(tags[sentence_idx][index])\n",
    " \n",
    "    return X, y"
   ]
  },
  {
   "cell_type": "code",
   "execution_count": 7,
   "metadata": {},
   "outputs": [],
   "source": [
    "cutoff = int(.75 * len(sentences))\n",
    "training_sentences = sentences[:cutoff]\n",
    "test_sentences = sentences[cutoff:]\n",
    "training_tags = tags[:cutoff]\n",
    "test_tags = tags[cutoff:]"
   ]
  },
  {
   "cell_type": "code",
   "execution_count": 8,
   "metadata": {},
   "outputs": [],
   "source": [
    "# training_sentences = sentences[:]\n",
    "# training_tags = tags[:]\n",
    "# test_sentences = sentences[cutoff:]\n",
    "# test_tags = tags[cutoff:]"
   ]
  },
  {
   "cell_type": "code",
   "execution_count": 9,
   "metadata": {},
   "outputs": [
    {
     "name": "stdout",
     "output_type": "stream",
     "text": [
      "Training completed\n"
     ]
    }
   ],
   "source": [
    "X, y = transform_to_dataset(training_sentences, training_tags)\n",
    "\n",
    "\n",
    "from sklearn import tree\n",
    "from sklearn.feature_extraction import DictVectorizer\n",
    "from sklearn.pipeline import Pipeline\n",
    " \n",
    "clf = Pipeline([\n",
    "    ('vectorizer', DictVectorizer(sparse=False)),\n",
    "    ('classifier', tree.DecisionTreeClassifier(criterion='entropy'))\n",
    "])\n",
    "clf.fit(X, y)   \n",
    " \n",
    "print('Training completed')"
   ]
  },
  {
   "cell_type": "code",
   "execution_count": 10,
   "metadata": {},
   "outputs": [],
   "source": [
    "# X_test, y_test = transform_to_dataset(test_sentences, test_tags)\n",
    " \n",
    "# print(\"Accuracy:\")\n",
    "# print(clf.score(X_test, y_test))"
   ]
  },
  {
   "cell_type": "code",
   "execution_count": 11,
   "metadata": {},
   "outputs": [],
   "source": [
    "def pos_tag(sentence):\n",
    "    tags = clf.predict([features(sentence, index) for index in range(len(sentence))])\n",
    "    return tags "
   ]
  },
  {
   "cell_type": "code",
   "execution_count": 12,
   "metadata": {},
   "outputs": [],
   "source": [
    "predictedClassification = []\n",
    "for i in range (len(kalimatTest)):\n",
    "    predicting = []\n",
    "    predicting.extend(pos_tag(kalimatTest[i].split('@')))\n",
    "    predicting.pop()\n",
    "    predictedClassification.extend(predicting)\n",
    "import copy\n",
    "dfPredictedClassification = copy.deepcopy(testSet)\n",
    "dfPredictedClassification = dfPredictedClassification.rename(columns={0: \"Kata\", 1: \"Tag\"})\n",
    "dfPredictedClassification.insert(2, \"Predicted Tag\", predictedClassification)\n",
    "dfPredictedClassification.to_excel(\"Hasil Classification.xlsx\", index =  False)"
   ]
  },
  {
   "cell_type": "code",
   "execution_count": 13,
   "metadata": {},
   "outputs": [
    {
     "name": "stdout",
     "output_type": "stream",
     "text": [
      "Akurasi:  0.8311688311688312\n"
     ]
    }
   ],
   "source": [
    "accuracyClassification = 0\n",
    "for i in range (len(dfPredictedClassification)):\n",
    "    if dfPredictedClassification.iloc[i,1] == dfPredictedClassification.iloc[i,2]:\n",
    "        accuracyClassification += 1\n",
    "accuracyClassification = accuracyClassification / len(dfPredictedClassification)\n",
    "print(\"Akurasi: \", accuracyClassification)"
   ]
  }
 ],
 "metadata": {
  "kernelspec": {
   "display_name": "Python 3",
   "language": "python",
   "name": "python3"
  },
  "language_info": {
   "codemirror_mode": {
    "name": "ipython",
    "version": 3
   },
   "file_extension": ".py",
   "mimetype": "text/x-python",
   "name": "python",
   "nbconvert_exporter": "python",
   "pygments_lexer": "ipython3",
   "version": "3.7.4"
  }
 },
 "nbformat": 4,
 "nbformat_minor": 2
}
