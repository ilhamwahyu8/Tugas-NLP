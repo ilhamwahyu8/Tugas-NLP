{
 "cells": [
  {
   "cell_type": "code",
   "execution_count": 1,
   "metadata": {},
   "outputs": [
    {
     "name": "stderr",
     "output_type": "stream",
     "text": [
      "[nltk_data] Downloading package punkt to\n",
      "[nltk_data]     C:\\Users\\Ilham\\AppData\\Roaming\\nltk_data...\n",
      "[nltk_data]   Package punkt is already up-to-date!\n"
     ]
    },
    {
     "data": {
      "text/plain": [
       "True"
      ]
     },
     "execution_count": 1,
     "metadata": {},
     "output_type": "execute_result"
    }
   ],
   "source": [
    "import pandas as pd\n",
    "import nltk\n",
    "from nltk import word_tokenize\n",
    "import os\n",
    "import copy\n",
    "nltk.download('punkt')"
   ]
  },
  {
   "cell_type": "code",
   "execution_count": 3,
   "metadata": {},
   "outputs": [],
   "source": [
    "path = 'Dataset'\n",
    "trainSet = pd.read_csv(path + \"/Train Set.tsv\",header = None, delimiter=\"\\t\")\n",
    "testSet = pd.read_csv(path + \"/Test Set.tsv\",header = None, delimiter=\"\\t\")"
   ]
  },
  {
   "cell_type": "code",
   "execution_count": 5,
   "metadata": {},
   "outputs": [],
   "source": [
    "kalimatTrain = []\n",
    "insertKalimat = ''\n",
    "for i in range(len(trainSet)):\n",
    "    insertKalimat += str(trainSet.loc[i,0]).lower()\n",
    "    insertKalimat += '/'\n",
    "    insertKalimat += str(trainSet.loc[i,1])\n",
    "    insertKalimat += '@'\n",
    "    if trainSet.loc[i,0] == \".\" and trainSet.loc[i,1] == \"Z\":\n",
    "        kalimatTrain.append(insertKalimat)\n",
    "        insertKalimat = ''\n",
    "# Pembuatan 50 kalimat dari kata di dalam trainset"
   ]
  },
  {
   "cell_type": "code",
   "execution_count": 7,
   "metadata": {},
   "outputs": [],
   "source": [
    "word_tag_freq = {} # dictionary untuk menyimpan frekuensi tag kata\n",
    "tag_count = {} # dictionary untuk menyimpan frekuensi tag\n",
    "for i in range(0, len(kalimatTrain)):\n",
    "    tokens = kalimatTrain[i].split('@')\n",
    "    tokens.pop()\n",
    "    for j in range(0, len(tokens)):\n",
    "        pair = tokens[j].split('/')\n",
    "        word = pair[0].lower()\n",
    "        tag = pair[1]\n",
    "\n",
    "        # simpan di dictionary tag\n",
    "        if tag in tag_count:\n",
    "            tag_count[tag] = tag_count[tag] + 1\n",
    "        else:\n",
    "            tag_count[tag] = 1\n",
    "            \n",
    "        # simpan di dictionary kata,tag\n",
    "        key = (word,tag)\n",
    "        if key in word_tag_freq:\n",
    "            word_tag_freq[key] = word_tag_freq[key] + 1\n",
    "        else:\n",
    "            word_tag_freq[key] = 1"
   ]
  },
  {
   "cell_type": "code",
   "execution_count": 9,
   "metadata": {},
   "outputs": [],
   "source": [
    "def get_most_freq_tag():\n",
    "    most_freq_tag = max(tag_count, key=tag_count.get) \n",
    "    return most_freq_tag\n",
    "default_tag = get_most_freq_tag()"
   ]
  },
  {
   "cell_type": "code",
   "execution_count": 10,
   "metadata": {},
   "outputs": [],
   "source": [
    "def get_most_freq_tag_word(word):\n",
    "    word_tags = {k: v for k, v in word_tag_freq.items() if word in k}\n",
    "    sorted_word_tags = sorted(word_tags.items(), key=lambda x: x[1], reverse=True)\n",
    "    if len(sorted_word_tags)>0:\n",
    "        return sorted_word_tags[0]\n",
    "    else:\n",
    "        return None"
   ]
  },
  {
   "cell_type": "code",
   "execution_count": 17,
   "metadata": {},
   "outputs": [],
   "source": [
    "from nltk.tokenize import word_tokenize\n",
    "predictedBaseline = []\n",
    "# Prediksi menggunakan seluruh kata dalam testSet\n",
    "for i in range (len(testSet)):\n",
    "    token = str(testSet.iloc[i,0]).lower()\n",
    "    most_freq_tag_token = get_most_freq_tag_word(token)\n",
    "    if most_freq_tag_token:\n",
    "        # kata terdapat di data latih\n",
    "        predictedBaseline.append(most_freq_tag_token[0][1])\n",
    "    else:\n",
    "        # kata tidak terdapat di data latih\n",
    "        predictedBaseline.append(get_most_freq_tag())"
   ]
  },
  {
   "cell_type": "code",
   "execution_count": 18,
   "metadata": {},
   "outputs": [],
   "source": [
    "dfPredictedBaseline = copy.deepcopy(testSet)\n",
    "dfPredictedBaseline = dfPredictedBaseline.rename(columns={0: \"Kata\", 1: \"Tag\"})\n",
    "dfPredictedBaseline.insert(2, \"Predicted Tag\", predictedBaseline)\n",
    "dfPredictedBaseline.to_excel(\"Hasil Baseline.xlsx\", index =  False)"
   ]
  },
  {
   "cell_type": "code",
   "execution_count": 19,
   "metadata": {},
   "outputs": [
    {
     "name": "stdout",
     "output_type": "stream",
     "text": [
      "Akurasi:  0.948051948051948\n"
     ]
    }
   ],
   "source": [
    "accuracyBaseline = 0\n",
    "for i in range (len(dfPredictedBaseline)):\n",
    "    if dfPredictedBaseline.iloc[i,1] == dfPredictedBaseline.iloc[i,2]:\n",
    "        accuracyBaseline += 1\n",
    "accuracyBaseline = accuracyBaseline / len(dfPredictedBaseline)\n",
    "print(\"Akurasi: \", accuracyBaseline)"
   ]
  }
 ],
 "metadata": {
  "kernelspec": {
   "display_name": "Python 3",
   "language": "python",
   "name": "python3"
  },
  "language_info": {
   "codemirror_mode": {
    "name": "ipython",
    "version": 3
   },
   "file_extension": ".py",
   "mimetype": "text/x-python",
   "name": "python",
   "nbconvert_exporter": "python",
   "pygments_lexer": "ipython3",
   "version": "3.7.4"
  }
 },
 "nbformat": 4,
 "nbformat_minor": 2
}
