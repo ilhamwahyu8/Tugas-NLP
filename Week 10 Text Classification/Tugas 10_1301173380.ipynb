{
 "cells": [
  {
   "cell_type": "code",
   "execution_count": 1,
   "metadata": {},
   "outputs": [],
   "source": [
    "import pandas as pd\n",
    "import re\n",
    "import nltk\n",
    "import seaborn as sns\n",
    "import matplotlib.pyplot as plt\n",
    "from Sastrawi.Stemmer.StemmerFactory import StemmerFactory\n",
    "from Sastrawi.StopWordRemover.StopWordRemoverFactory import StopWordRemoverFactory\n",
    "import collections\n",
    "import copy\n",
    "import random as rd"
   ]
  },
  {
   "cell_type": "code",
   "execution_count": 2,
   "metadata": {},
   "outputs": [
    {
     "data": {
      "text/html": [
       "<div>\n",
       "<style scoped>\n",
       "    .dataframe tbody tr th:only-of-type {\n",
       "        vertical-align: middle;\n",
       "    }\n",
       "\n",
       "    .dataframe tbody tr th {\n",
       "        vertical-align: top;\n",
       "    }\n",
       "\n",
       "    .dataframe thead th {\n",
       "        text-align: right;\n",
       "    }\n",
       "</style>\n",
       "<table border=\"1\" class=\"dataframe\">\n",
       "  <thead>\n",
       "    <tr style=\"text-align: right;\">\n",
       "      <th></th>\n",
       "      <th>ID</th>\n",
       "      <th>label</th>\n",
       "      <th>tanggal</th>\n",
       "      <th>judul</th>\n",
       "      <th>narasi</th>\n",
       "      <th>nama file gambar</th>\n",
       "    </tr>\n",
       "  </thead>\n",
       "  <tbody>\n",
       "    <tr>\n",
       "      <td>0</td>\n",
       "      <td>71</td>\n",
       "      <td>1</td>\n",
       "      <td>2020-08-17 00:00:00</td>\n",
       "      <td>Pemakaian Masker Menyebabkan Penyakit Legionna...</td>\n",
       "      <td>A caller to a radio talk show recently shared ...</td>\n",
       "      <td>71.jpg</td>\n",
       "    </tr>\n",
       "    <tr>\n",
       "      <td>1</td>\n",
       "      <td>461</td>\n",
       "      <td>1</td>\n",
       "      <td>2020-07-17 00:00:00</td>\n",
       "      <td>Instruksi Gubernur Jateng tentang penilangan  ...</td>\n",
       "      <td>Yth.Seluruh Anggota Grup Sesuai Instruksi Gube...</td>\n",
       "      <td>461.png</td>\n",
       "    </tr>\n",
       "    <tr>\n",
       "      <td>2</td>\n",
       "      <td>495</td>\n",
       "      <td>1</td>\n",
       "      <td>2020-07-13 00:00:00</td>\n",
       "      <td>Foto Jim Rohn: Jokowi adalah presiden terbaik ...</td>\n",
       "      <td>Jokowi adalah presiden terbaik dlm sejarah ban...</td>\n",
       "      <td>495.png</td>\n",
       "    </tr>\n",
       "    <tr>\n",
       "      <td>3</td>\n",
       "      <td>550</td>\n",
       "      <td>1</td>\n",
       "      <td>2020-07-08 00:00:00</td>\n",
       "      <td>ini bukan politik, tapi kenyataan Pak Jokowi b...</td>\n",
       "      <td>Maaf Mas2 dan Mbak2, ini bukan politik, tapi k...</td>\n",
       "      <td>550.png</td>\n",
       "    </tr>\n",
       "    <tr>\n",
       "      <td>4</td>\n",
       "      <td>681</td>\n",
       "      <td>1</td>\n",
       "      <td>2020-06-24 00:00:00</td>\n",
       "      <td>Foto Kadrun kalo lihat foto ini panas dingin</td>\n",
       "      <td>Kadrun kalo lihat foto ini panas dingin . .</td>\n",
       "      <td>681.jpg</td>\n",
       "    </tr>\n",
       "  </tbody>\n",
       "</table>\n",
       "</div>"
      ],
      "text/plain": [
       "    ID  label              tanggal  \\\n",
       "0   71      1  2020-08-17 00:00:00   \n",
       "1  461      1  2020-07-17 00:00:00   \n",
       "2  495      1  2020-07-13 00:00:00   \n",
       "3  550      1  2020-07-08 00:00:00   \n",
       "4  681      1  2020-06-24 00:00:00   \n",
       "\n",
       "                                               judul  \\\n",
       "0  Pemakaian Masker Menyebabkan Penyakit Legionna...   \n",
       "1  Instruksi Gubernur Jateng tentang penilangan  ...   \n",
       "2  Foto Jim Rohn: Jokowi adalah presiden terbaik ...   \n",
       "3  ini bukan politik, tapi kenyataan Pak Jokowi b...   \n",
       "4       Foto Kadrun kalo lihat foto ini panas dingin   \n",
       "\n",
       "                                              narasi nama file gambar  \n",
       "0  A caller to a radio talk show recently shared ...           71.jpg  \n",
       "1  Yth.Seluruh Anggota Grup Sesuai Instruksi Gube...          461.png  \n",
       "2  Jokowi adalah presiden terbaik dlm sejarah ban...          495.png  \n",
       "3  Maaf Mas2 dan Mbak2, ini bukan politik, tapi k...          550.png  \n",
       "4        Kadrun kalo lihat foto ini panas dingin . .          681.jpg  "
      ]
     },
     "execution_count": 2,
     "metadata": {},
     "output_type": "execute_result"
    }
   ],
   "source": [
    "dataset = pd.read_excel('Data Latih BDC.xlsx')\n",
    "dataset.head()"
   ]
  },
  {
   "cell_type": "code",
   "execution_count": 3,
   "metadata": {},
   "outputs": [
    {
     "data": {
      "text/html": [
       "<div>\n",
       "<style scoped>\n",
       "    .dataframe tbody tr th:only-of-type {\n",
       "        vertical-align: middle;\n",
       "    }\n",
       "\n",
       "    .dataframe tbody tr th {\n",
       "        vertical-align: top;\n",
       "    }\n",
       "\n",
       "    .dataframe thead th {\n",
       "        text-align: right;\n",
       "    }\n",
       "</style>\n",
       "<table border=\"1\" class=\"dataframe\">\n",
       "  <thead>\n",
       "    <tr style=\"text-align: right;\">\n",
       "      <th></th>\n",
       "      <th>narasi</th>\n",
       "      <th>label</th>\n",
       "    </tr>\n",
       "  </thead>\n",
       "  <tbody>\n",
       "    <tr>\n",
       "      <td>0</td>\n",
       "      <td>A caller to a radio talk show recently shared ...</td>\n",
       "      <td>1</td>\n",
       "    </tr>\n",
       "    <tr>\n",
       "      <td>1</td>\n",
       "      <td>Yth.Seluruh Anggota Grup Sesuai Instruksi Gube...</td>\n",
       "      <td>1</td>\n",
       "    </tr>\n",
       "    <tr>\n",
       "      <td>2</td>\n",
       "      <td>Jokowi adalah presiden terbaik dlm sejarah ban...</td>\n",
       "      <td>1</td>\n",
       "    </tr>\n",
       "    <tr>\n",
       "      <td>3</td>\n",
       "      <td>Maaf Mas2 dan Mbak2, ini bukan politik, tapi k...</td>\n",
       "      <td>1</td>\n",
       "    </tr>\n",
       "    <tr>\n",
       "      <td>4</td>\n",
       "      <td>Kadrun kalo lihat foto ini panas dingin . . Fo...</td>\n",
       "      <td>1</td>\n",
       "    </tr>\n",
       "  </tbody>\n",
       "</table>\n",
       "</div>"
      ],
      "text/plain": [
       "                                              narasi  label\n",
       "0  A caller to a radio talk show recently shared ...      1\n",
       "1  Yth.Seluruh Anggota Grup Sesuai Instruksi Gube...      1\n",
       "2  Jokowi adalah presiden terbaik dlm sejarah ban...      1\n",
       "3  Maaf Mas2 dan Mbak2, ini bukan politik, tapi k...      1\n",
       "4  Kadrun kalo lihat foto ini panas dingin . . Fo...      1"
      ]
     },
     "execution_count": 3,
     "metadata": {},
     "output_type": "execute_result"
    }
   ],
   "source": [
    "slangWord = pd.read_csv('colloquial-indonesian-lexicon.csv')\n",
    "replaced = slangWord.iloc[:,1].values.tolist()\n",
    "slangWord = slangWord.iloc[:,0].values.tolist()\n",
    "dataset = pd.read_excel('Data Latih BDC.xlsx')\n",
    "datasetJudul = dataset.judul\n",
    "dataset = dataset.iloc[:,[4,1]]\n",
    "for i in range(len(dataset)):\n",
    "    dataset.iloc[i,0] = dataset.iloc[i,0] + \" \" + datasetJudul[i]\n",
    "dataset.head()"
   ]
  },
  {
   "cell_type": "code",
   "execution_count": 4,
   "metadata": {},
   "outputs": [
    {
     "name": "stderr",
     "output_type": "stream",
     "text": [
      "  0%|                                                                                         | 0/4231 [00:00<?, ?it/s]C:\\Anaconda\\lib\\site-packages\\pandas\\core\\indexing.py:205: SettingWithCopyWarning: \n",
      "A value is trying to be set on a copy of a slice from a DataFrame\n",
      "\n",
      "See the caveats in the documentation: http://pandas.pydata.org/pandas-docs/stable/user_guide/indexing.html#returning-a-view-versus-a-copy\n",
      "  self._setitem_with_indexer(indexer, value)\n",
      "100%|██████████████████████████████████████████████████████████████████████████████| 4231/4231 [00:53<00:00, 78.81it/s]\n"
     ]
    }
   ],
   "source": [
    "def cleaning(text):\n",
    "    temp = re.sub(r'@[A-Za-z0-9]+', '', text)\n",
    "    temp = re.sub(\"[^a-zA-Z]\", \" \", temp)\n",
    "    temp = \" \".join(temp.split())\n",
    "    return temp.lower()\n",
    "\n",
    "def removeStopword(x):\n",
    "#     return \" \".join([w for w in x.split() if not w in dictStopword])\n",
    "    factory = StopWordRemoverFactory()\n",
    "    stopword = factory.create_stop_word_remover()\n",
    "    return stopword.remove(x)\n",
    "\n",
    "def removeSlang(x):\n",
    "    temp = [w for w in x if  w in slangWord]\n",
    "    for item in temp:\n",
    "        idxSlang = slangWord.index(item)\n",
    "        idxReplace = x.index(item)\n",
    "        x[idxReplace] = replaced[idxSlang]\n",
    "    return x\n",
    "\n",
    "def stemming(x):\n",
    "    # import StemmerFactory class\n",
    "    # create stemmer\n",
    "    factory = StemmerFactory()\n",
    "    stemmer = factory.create_stemmer()\n",
    "    return stemmer.stem(x)\n",
    "\n",
    "def cleanAll(x):\n",
    "    x = cleaning(x)\n",
    "    x = removeStopword(x)\n",
    "    x = stemming(x)\n",
    "    x = removeSlang(x.split())\n",
    "    return \" \".join(x)\n",
    "\n",
    "from tqdm import trange, tqdm\n",
    "for i in trange(len(dataset)):\n",
    "    dataset['narasi'].iloc[i] = cleanAll(dataset['narasi'].loc[i])"
   ]
  },
  {
   "cell_type": "code",
   "execution_count": 5,
   "metadata": {},
   "outputs": [
    {
     "data": {
      "text/plain": [
       "Counter({1: 3465, 0: 766})"
      ]
     },
     "execution_count": 5,
     "metadata": {},
     "output_type": "execute_result"
    },
    {
     "data": {
      "image/png": "[encoded data removed]",
      "text/plain": [
       "<Figure size 432x288 with 1 Axes>"
      ]
     },
     "metadata": {
      "needs_background": "light"
     },
     "output_type": "display_data"
    }
   ],
   "source": [
    "sns.countplot(dataset.label)\n",
    "plt.xlabel('label')\n",
    "plt.title('Count')\n",
    "collections.Counter(dataset.label)"
   ]
  },
  {
   "cell_type": "code",
   "execution_count": 6,
   "metadata": {},
   "outputs": [],
   "source": [
    "backupDataset = copy.deepcopy(dataset)"
   ]
  },
  {
   "cell_type": "code",
   "execution_count": 7,
   "metadata": {},
   "outputs": [],
   "source": [
    "dataset = copy.deepcopy(backupDataset)"
   ]
  },
  {
   "cell_type": "code",
   "execution_count": 8,
   "metadata": {},
   "outputs": [],
   "source": [
    "# Imbalance Class\n",
    "# Resampling (duplikat seluruh data dengan label 0)\n",
    "\n",
    "idxTemp = dataset.index[dataset['label'] == 0].tolist()\n",
    "rd.shuffle(idxTemp)\n",
    "idxTemp = idxTemp[:300]\n",
    "insertThis = dataset.iloc[idxTemp]\n",
    "dataset = pd.concat([dataset, insertThis]) \n",
    "# dataset = dataset.reset_index()"
   ]
  },
  {
   "cell_type": "code",
   "execution_count": 9,
   "metadata": {},
   "outputs": [
    {
     "data": {
      "text/plain": [
       "Counter({1: 3465, 0: 1066})"
      ]
     },
     "execution_count": 9,
     "metadata": {},
     "output_type": "execute_result"
    },
    {
     "data": {
      "image/png": "[encoded data removed]",
      "text/plain": [
       "<Figure size 432x288 with 1 Axes>"
      ]
     },
     "metadata": {
      "needs_background": "light"
     },
     "output_type": "display_data"
    }
   ],
   "source": [
    "sns.countplot(dataset.label)\n",
    "plt.xlabel('label')\n",
    "plt.title('Count')\n",
    "collections.Counter(dataset.label)"
   ]
  },
  {
   "cell_type": "code",
   "execution_count": 10,
   "metadata": {},
   "outputs": [],
   "source": [
    "import numpy as np\n",
    "from sklearn.model_selection import train_test_split\n",
    "dataTrain, dataTest = train_test_split(dataset, test_size=0.1)\n",
    "# dataTrain"
   ]
  },
  {
   "cell_type": "code",
   "execution_count": 11,
   "metadata": {},
   "outputs": [],
   "source": [
    "# Feature Extraction"
   ]
  },
  {
   "cell_type": "code",
   "execution_count": 12,
   "metadata": {},
   "outputs": [],
   "source": [
    "from sklearn.feature_extraction.text import TfidfVectorizer\n",
    "tfidfVect = TfidfVectorizer()\n",
    "tfidfVect.fit(dataset['narasi'])\n",
    "tfidfXTrain = tfidfVect.transform(dataTrain['narasi'])\n",
    "tfidfXTest = tfidfVect.transform(dataTest['narasi'])\n",
    "YTrain = dataTrain['label'].to_numpy()\n",
    "YTest = dataTest['label'].to_numpy()"
   ]
  },
  {
   "cell_type": "code",
   "execution_count": 13,
   "metadata": {},
   "outputs": [],
   "source": [
    "from sklearn.svm import SVC\n",
    "from sklearn.neighbors import KNeighborsClassifier\n",
    "from sklearn.metrics import *\n",
    "classifier = SVC( kernel='poly', random_state=1)\n",
    "classifier.fit(tfidfXTrain, YTrain)\n",
    "YPred = classifier.predict(tfidfXTest)"
   ]
  },
  {
   "cell_type": "code",
   "execution_count": 14,
   "metadata": {},
   "outputs": [
    {
     "name": "stdout",
     "output_type": "stream",
     "text": [
      "presisi  : 93.27 %\n",
      "recall   : 74.77 %\n",
      "f1 score : 79.52 %\n"
     ]
    }
   ],
   "source": [
    "print('presisi  :',round(precision_score(YTest, YPred, average='macro')*100, 2),'%')\n",
    "print('recall   :',round(recall_score(YTest, YPred, average='macro')*100, 2),'%')\n",
    "print('f1 score :',round(f1_score(YTest, YPred, average='macro')*100, 2),'%')"
   ]
  },
  {
   "cell_type": "code",
   "execution_count": 15,
   "metadata": {},
   "outputs": [],
   "source": [
    "evaluateDataTest = copy.deepcopy(dataTest)\n",
    "evaluateDataTest.insert(2, \"Prediction\", YPred)\n",
    "evaluateDataTest.insert(3, \"Hasil Akhir\", YPred==YTest)\n",
    "# evaluateDataTest.to_excel(\"Hasil Akhir.xlsx\")"
   ]
  },
  {
   "cell_type": "code",
   "execution_count": 16,
   "metadata": {},
   "outputs": [
    {
     "data": {
      "text/html": [
       "<div>\n",
       "<style scoped>\n",
       "    .dataframe tbody tr th:only-of-type {\n",
       "        vertical-align: middle;\n",
       "    }\n",
       "\n",
       "    .dataframe tbody tr th {\n",
       "        vertical-align: top;\n",
       "    }\n",
       "\n",
       "    .dataframe thead th {\n",
       "        text-align: right;\n",
       "    }\n",
       "</style>\n",
       "<table border=\"1\" class=\"dataframe\">\n",
       "  <thead>\n",
       "    <tr style=\"text-align: right;\">\n",
       "      <th></th>\n",
       "      <th>narasi</th>\n",
       "      <th>label</th>\n",
       "      <th>Prediction</th>\n",
       "      <th>Hasil Akhir</th>\n",
       "    </tr>\n",
       "  </thead>\n",
       "  <tbody>\n",
       "    <tr>\n",
       "      <td>3183</td>\n",
       "      <td>catet biar enggak tercyduk catet biar enggak t...</td>\n",
       "      <td>0</td>\n",
       "      <td>0</td>\n",
       "      <td>True</td>\n",
       "    </tr>\n",
       "    <tr>\n",
       "      <td>2732</td>\n",
       "      <td>psbb kota bandung raya senin jam wib liar psbb...</td>\n",
       "      <td>1</td>\n",
       "      <td>1</td>\n",
       "      <td>True</td>\n",
       "    </tr>\n",
       "    <tr>\n",
       "      <td>3346</td>\n",
       "      <td>ellen degeneres distributes help for corona vi...</td>\n",
       "      <td>1</td>\n",
       "      <td>1</td>\n",
       "      <td>True</td>\n",
       "    </tr>\n",
       "    <tr>\n",
       "      <td>69</td>\n",
       "      <td>demo neo pki sudah ijin buntel kentut maaf ral...</td>\n",
       "      <td>1</td>\n",
       "      <td>1</td>\n",
       "      <td>True</td>\n",
       "    </tr>\n",
       "    <tr>\n",
       "      <td>1132</td>\n",
       "      <td>uang italian millionaire terjun bagunan keluar...</td>\n",
       "      <td>1</td>\n",
       "      <td>1</td>\n",
       "      <td>True</td>\n",
       "    </tr>\n",
       "    <tr>\n",
       "      <td>1700</td>\n",
       "      <td>dokter israel bantu rrc tentang wabah virus co...</td>\n",
       "      <td>1</td>\n",
       "      <td>1</td>\n",
       "      <td>True</td>\n",
       "    </tr>\n",
       "    <tr>\n",
       "      <td>436</td>\n",
       "      <td>jack sama advice hopefully we can get through ...</td>\n",
       "      <td>1</td>\n",
       "      <td>1</td>\n",
       "      <td>True</td>\n",
       "    </tr>\n",
       "    <tr>\n",
       "      <td>1826</td>\n",
       "      <td>info brsan daerah bago rs bayangkara timur tua...</td>\n",
       "      <td>1</td>\n",
       "      <td>1</td>\n",
       "      <td>True</td>\n",
       "    </tr>\n",
       "    <tr>\n",
       "      <td>2002</td>\n",
       "      <td>fbi umum tangkap profesor harvard ketua biolog...</td>\n",
       "      <td>1</td>\n",
       "      <td>1</td>\n",
       "      <td>True</td>\n",
       "    </tr>\n",
       "    <tr>\n",
       "      <td>2963</td>\n",
       "      <td>ekor yang mati sudah kalang kabut bgamna denga...</td>\n",
       "      <td>1</td>\n",
       "      <td>1</td>\n",
       "      <td>True</td>\n",
       "    </tr>\n",
       "  </tbody>\n",
       "</table>\n",
       "</div>"
      ],
      "text/plain": [
       "                                                 narasi  label  Prediction  \\\n",
       "3183  catet biar enggak tercyduk catet biar enggak t...      0           0   \n",
       "2732  psbb kota bandung raya senin jam wib liar psbb...      1           1   \n",
       "3346  ellen degeneres distributes help for corona vi...      1           1   \n",
       "69    demo neo pki sudah ijin buntel kentut maaf ral...      1           1   \n",
       "1132  uang italian millionaire terjun bagunan keluar...      1           1   \n",
       "1700  dokter israel bantu rrc tentang wabah virus co...      1           1   \n",
       "436   jack sama advice hopefully we can get through ...      1           1   \n",
       "1826  info brsan daerah bago rs bayangkara timur tua...      1           1   \n",
       "2002  fbi umum tangkap profesor harvard ketua biolog...      1           1   \n",
       "2963  ekor yang mati sudah kalang kabut bgamna denga...      1           1   \n",
       "\n",
       "      Hasil Akhir  \n",
       "3183         True  \n",
       "2732         True  \n",
       "3346         True  \n",
       "69           True  \n",
       "1132         True  \n",
       "1700         True  \n",
       "436          True  \n",
       "1826         True  \n",
       "2002         True  \n",
       "2963         True  "
      ]
     },
     "execution_count": 16,
     "metadata": {},
     "output_type": "execute_result"
    }
   ],
   "source": [
    "evaluateDataTest.loc[evaluateDataTest['Hasil Akhir'] == True][:10]"
   ]
  },
  {
   "cell_type": "code",
   "execution_count": 17,
   "metadata": {},
   "outputs": [
    {
     "data": {
      "text/html": [
       "<div>\n",
       "<style scoped>\n",
       "    .dataframe tbody tr th:only-of-type {\n",
       "        vertical-align: middle;\n",
       "    }\n",
       "\n",
       "    .dataframe tbody tr th {\n",
       "        vertical-align: top;\n",
       "    }\n",
       "\n",
       "    .dataframe thead th {\n",
       "        text-align: right;\n",
       "    }\n",
       "</style>\n",
       "<table border=\"1\" class=\"dataframe\">\n",
       "  <thead>\n",
       "    <tr style=\"text-align: right;\">\n",
       "      <th></th>\n",
       "      <th>narasi</th>\n",
       "      <th>label</th>\n",
       "      <th>Prediction</th>\n",
       "      <th>Hasil Akhir</th>\n",
       "    </tr>\n",
       "  </thead>\n",
       "  <tbody>\n",
       "    <tr>\n",
       "      <td>662</td>\n",
       "      <td>menteri negeri klarifikasi anak anak wni tahan...</td>\n",
       "      <td>0</td>\n",
       "      <td>1</td>\n",
       "      <td>False</td>\n",
       "    </tr>\n",
       "    <tr>\n",
       "      <td>3507</td>\n",
       "      <td>berita tulis alir sesat tahun an alir sesat re...</td>\n",
       "      <td>0</td>\n",
       "      <td>1</td>\n",
       "      <td>False</td>\n",
       "    </tr>\n",
       "    <tr>\n",
       "      <td>3901</td>\n",
       "      <td>washington senin paul manafort mantan manajer ...</td>\n",
       "      <td>0</td>\n",
       "      <td>1</td>\n",
       "      <td>False</td>\n",
       "    </tr>\n",
       "    <tr>\n",
       "      <td>549</td>\n",
       "      <td>hadir misi ustad bachtiar nasir aql fpi ustad ...</td>\n",
       "      <td>0</td>\n",
       "      <td>1</td>\n",
       "      <td>False</td>\n",
       "    </tr>\n",
       "    <tr>\n",
       "      <td>1062</td>\n",
       "      <td>massa istiqlal istiqlal gembok masjid istiqlal...</td>\n",
       "      <td>0</td>\n",
       "      <td>1</td>\n",
       "      <td>False</td>\n",
       "    </tr>\n",
       "    <tr>\n",
       "      <td>524</td>\n",
       "      <td>wenang sih mantan jenderal sengak luhut larang...</td>\n",
       "      <td>0</td>\n",
       "      <td>1</td>\n",
       "      <td>False</td>\n",
       "    </tr>\n",
       "    <tr>\n",
       "      <td>915</td>\n",
       "      <td>edar isu media sosial beranta rencana naik har...</td>\n",
       "      <td>0</td>\n",
       "      <td>1</td>\n",
       "      <td>False</td>\n",
       "    </tr>\n",
       "    <tr>\n",
       "      <td>2209</td>\n",
       "      <td>sumber darimana video ungsi syria lempari rece...</td>\n",
       "      <td>0</td>\n",
       "      <td>1</td>\n",
       "      <td>False</td>\n",
       "    </tr>\n",
       "    <tr>\n",
       "      <td>2375</td>\n",
       "      <td>info kemudi mobil hati hati parkir kendara tem...</td>\n",
       "      <td>0</td>\n",
       "      <td>1</td>\n",
       "      <td>False</td>\n",
       "    </tr>\n",
       "    <tr>\n",
       "      <td>3753</td>\n",
       "      <td>foto acara munas partai hanura bal perhati fot...</td>\n",
       "      <td>0</td>\n",
       "      <td>1</td>\n",
       "      <td>False</td>\n",
       "    </tr>\n",
       "  </tbody>\n",
       "</table>\n",
       "</div>"
      ],
      "text/plain": [
       "                                                 narasi  label  Prediction  \\\n",
       "662   menteri negeri klarifikasi anak anak wni tahan...      0           1   \n",
       "3507  berita tulis alir sesat tahun an alir sesat re...      0           1   \n",
       "3901  washington senin paul manafort mantan manajer ...      0           1   \n",
       "549   hadir misi ustad bachtiar nasir aql fpi ustad ...      0           1   \n",
       "1062  massa istiqlal istiqlal gembok masjid istiqlal...      0           1   \n",
       "524   wenang sih mantan jenderal sengak luhut larang...      0           1   \n",
       "915   edar isu media sosial beranta rencana naik har...      0           1   \n",
       "2209  sumber darimana video ungsi syria lempari rece...      0           1   \n",
       "2375  info kemudi mobil hati hati parkir kendara tem...      0           1   \n",
       "3753  foto acara munas partai hanura bal perhati fot...      0           1   \n",
       "\n",
       "      Hasil Akhir  \n",
       "662         False  \n",
       "3507        False  \n",
       "3901        False  \n",
       "549         False  \n",
       "1062        False  \n",
       "524         False  \n",
       "915         False  \n",
       "2209        False  \n",
       "2375        False  \n",
       "3753        False  "
      ]
     },
     "execution_count": 17,
     "metadata": {},
     "output_type": "execute_result"
    }
   ],
   "source": [
    "evaluateDataTest.loc[evaluateDataTest['Hasil Akhir'] == False][:10]"
   ]
  },
  {
   "cell_type": "code",
   "execution_count": 18,
   "metadata": {},
   "outputs": [
    {
     "data": {
      "text/plain": [
       "Counter({0: 107, 1: 347})"
      ]
     },
     "execution_count": 18,
     "metadata": {},
     "output_type": "execute_result"
    },
    {
     "data": {
      "image/png": "[encoded data removed]",
      "text/plain": [
       "<Figure size 432x288 with 1 Axes>"
      ]
     },
     "metadata": {
      "needs_background": "light"
     },
     "output_type": "display_data"
    }
   ],
   "source": [
    "sns.countplot(evaluateDataTest.label)\n",
    "plt.xlabel('label')\n",
    "plt.title('Count')\n",
    "collections.Counter(evaluateDataTest.label)"
   ]
  },
  {
   "cell_type": "code",
   "execution_count": 19,
   "metadata": {},
   "outputs": [
    {
     "data": {
      "text/plain": [
       "Counter({0: 53, 1: 401})"
      ]
     },
     "execution_count": 19,
     "metadata": {},
     "output_type": "execute_result"
    },
    {
     "data": {
      "image/png": "[encoded data removed]",
      "text/plain": [
       "<Figure size 432x288 with 1 Axes>"
      ]
     },
     "metadata": {
      "needs_background": "light"
     },
     "output_type": "display_data"
    }
   ],
   "source": [
    "sns.countplot(evaluateDataTest.Prediction)\n",
    "plt.xlabel('label')\n",
    "plt.title('Count')\n",
    "collections.Counter(evaluateDataTest.Prediction)"
   ]
  },
  {
   "cell_type": "code",
   "execution_count": null,
   "metadata": {},
   "outputs": [],
   "source": []
  }
 ],
 "metadata": {
  "kernelspec": {
   "display_name": "Python 3",
   "language": "python",
   "name": "python3"
  },
  "language_info": {
   "codemirror_mode": {
    "name": "ipython",
    "version": 3
   },
   "file_extension": ".py",
   "mimetype": "text/x-python",
   "name": "python",
   "nbconvert_exporter": "python",
   "pygments_lexer": "ipython3",
   "version": "3.7.4"
  }
 },
 "nbformat": 4,
 "nbformat_minor": 2
}
